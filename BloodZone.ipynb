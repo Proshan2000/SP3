{
  "nbformat": 4,
  "nbformat_minor": 0,
  "metadata": {
    "colab": {
      "provenance": [],
      "authorship_tag": "ABX9TyPKO30JJHe25TYQC4YDe1P2",
      "include_colab_link": true
    },
    "kernelspec": {
      "name": "python3",
      "display_name": "Python 3"
    },
    "language_info": {
      "name": "python"
    }
  },
  "cells": [
    {
      "cell_type": "markdown",
      "metadata": {
        "id": "view-in-github",
        "colab_type": "text"
      },
      "source": [
        "<a href=\"https://colab.research.google.com/github/Proshan2000/SP3/blob/main/BloodZone.ipynb\" target=\"_parent\"><img src=\"https://colab.research.google.com/assets/colab-badge.svg\" alt=\"Open In Colab\"/></a>"
      ]
    },
    {
      "cell_type": "code",
      "execution_count": 6,
      "metadata": {
        "colab": {
          "base_uri": "https://localhost:8080/"
        },
        "id": "Y1pX-WbKK-rQ",
        "outputId": "b7ad0624-0eb3-401c-81a3-b3d267f082de"
      },
      "outputs": [
        {
          "output_type": "stream",
          "name": "stdout",
          "text": [
            "\n",
            "Welcome To Blood Zone!\n",
            "1. Register as a donor\n",
            "2. Search For donors\n",
            "3. Exit\n",
            "Please enter your choice: 1\n",
            "\n",
            "\n",
            "Enter Your Name: prithu\n",
            "Enter Your Phone Number: 1\n",
            "Enter Your Blood Type: a\n",
            "Enter last donation date (DD-MM-YYYY): 12-12-2111\n",
            "Enter Your Gender: male\n",
            "Enter Your Institution: diu\n",
            "Enter Your Location: dhaka\n",
            "\n",
            "Successfully Registered!\n",
            "\n",
            "Welcome To Blood Zone!\n",
            "1. Register as a donor\n",
            "2. Search For donors\n",
            "3. Exit\n",
            "Please enter your choice: 2\n",
            "\n",
            "\n",
            "Enter the blood type you are looking for: a\n",
            "Enter the location you are searching in: dhaka\n",
            "\n",
            "Matching donors found:\n",
            "Name: prithu, Phone: 1, Blood Group: a, Last Donation: 12-12-2111, Gender: male, Institution: diu\n",
            "\n",
            "Welcome To Blood Zone!\n",
            "1. Register as a donor\n",
            "2. Search For donors\n",
            "3. Exit\n",
            "Please enter your choice: 3\n",
            "\n",
            "\n",
            "Thank You for using the Blood Donation System. Have a Nice Day...\n"
          ]
        }
      ],
      "source": [
        "class Donor:\n",
        "    def __init__(self, name, phone_number, blood_type, last_donation_date, gender, institution, location):\n",
        "        self.name = name\n",
        "        self.phone_number = phone_number\n",
        "        self.blood_type = blood_type\n",
        "        self.last_donation_date = last_donation_date\n",
        "        self.gender = gender\n",
        "        self.institution = institution\n",
        "        self.location = location\n",
        "\n",
        "\n",
        "class BloodDonationSystem:\n",
        "    def __init__(self):\n",
        "        self.donors = []\n",
        "\n",
        "    def register_donor(self, name, contact_info, blood_type, last_donation_date, gender, institution, location):\n",
        "        new_donor = Donor(name, contact_info, blood_type, last_donation_date, gender, institution, location)\n",
        "        self.donors.append(new_donor)\n",
        "        print(\"\\nSuccessfully Registered!\")\n",
        "\n",
        "    def search_donors(self, blood_type, location):\n",
        "        matching_donors = [donor for donor in self.donors if donor.blood_type == blood_type and donor.location == location]\n",
        "        if matching_donors:\n",
        "            print(\"\\nMatching donors found:\")\n",
        "            for donor in matching_donors:\n",
        "                print(f\"Name: {donor.name}, Phone: {donor.phone_number}, Blood Group: {donor.blood_type}, \"\n",
        "                      f\"Last Donation: {donor.last_donation_date}, Gender: {donor.gender}, Institution: {donor.institution}\")\n",
        "        else:\n",
        "            print(\"\\nSorry, No matching donors found.\")\n",
        "\n",
        "\n",
        "def main():\n",
        "    blood_bank = BloodDonationSystem()\n",
        "\n",
        "    while True:\n",
        "        print(\"\\nWelcome To Blood Zone!\")\n",
        "        print(\"1. Register as a donor\")\n",
        "        print(\"2. Search For donors\")\n",
        "        print(\"3. Exit\")\n",
        "\n",
        "        choice = input(\"Please enter your choice: \")\n",
        "\n",
        "        if choice == '1':\n",
        "            print(\"\\n\")\n",
        "            name = input(\"Enter Your Name: \")\n",
        "            phone_number = input(\"Enter Your Phone Number: \")\n",
        "            blood_type = input(\"Enter Your Blood Type: \")\n",
        "            last_donation_date = input(\"Enter last donation date (DD-MM-YYYY): \")\n",
        "            gender = input(\"Enter Your Gender: \")\n",
        "            institution = input(\"Enter Your Institution: \")\n",
        "            location = input(\"Enter Your Location: \")\n",
        "            blood_bank.register_donor(name, phone_number, blood_type, last_donation_date, gender, institution, location)\n",
        "\n",
        "        elif choice == '2':\n",
        "            print(\"\\n\")\n",
        "            blood_type = input(\"Enter the blood type you are looking for: \")\n",
        "            location = input(\"Enter the location you are searching in: \")\n",
        "            blood_bank.search_donors(blood_type, location)\n",
        "\n",
        "        elif choice == '3':\n",
        "            print(\"\\n\")\n",
        "            print(\"Thank You for using the Blood Donation System. Have a Nice Day...\")\n",
        "            break\n",
        "\n",
        "        else:\n",
        "            print(\"Invalid choice. Please try again.\")\n",
        "\n",
        "\n",
        "if __name__ == \"__main__\":\n",
        "    main()\n"
      ]
    }
  ]
}