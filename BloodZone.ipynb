{
  "nbformat": 4,
  "nbformat_minor": 0,
  "metadata": {
    "colab": {
      "provenance": [],
      "authorship_tag": "ABX9TyPKO30JJHe25TYQC4YDe1P2",
      "include_colab_link": true
    },
    "kernelspec": {
      "name": "python3",
      "display_name": "Python 3"
    },
    "language_info": {
      "name": "python"
    }
  },
  "cells": [
    {
      "cell_type": "markdown",
      "metadata": {
        "id": "view-in-github",
        "colab_type": "text"
      },
      "source": [
        "<a href=\"https://colab.research.google.com/github/Proshan2000/SP3/blob/main/BloodZone.ipynb\" target=\"_parent\"><img src=\"https://colab.research.google.com/assets/colab-badge.svg\" alt=\"Open In Colab\"/></a>"
      ]
    },
    {
      "cell_type": "code",
      "execution_count": null,
      "metadata": {
        "colab": {
          "base_uri": "https://localhost:8080/",
          "height": 912
        },
        "id": "Y1pX-WbKK-rQ",
        "outputId": "2f141309-38a4-4f9a-c98e-f8356649660b"
      },
      "outputs": [
        {
          "metadata": {
            "tags": null
          },
          "name": "stdout",
          "output_type": "stream",
          "text": [
            "\n",
            "Welcome To Blood Zone!\n",
            "1. Register as a donor\n",
            "2. Search For donors\n",
            "3. Exit\n",
            "\n",
            "\n",
            "\n",
            "Successfully Registered!\n",
            "\n",
            "Welcome To Blood Zone!\n",
            "1. Register as a donor\n",
            "2. Search For donors\n",
            "3. Exit\n",
            "\n",
            "\n",
            "\n",
            "Successfully Registered!\n",
            "\n",
            "Welcome To Blood Zone!\n",
            "1. Register as a donor\n",
            "2. Search For donors\n",
            "3. Exit\n",
            "\n",
            "\n",
            "\n",
            "Matching donors found:\n",
            "Name: prithu, Phone: 0, Blood Group: a, Last Donation: 11-11-1111, Gender: male, Institution: diu\n",
            "Name: uy, Phone: 8, Blood Group: a, Last Donation: 11-12-2322, Gender: female, Institution: diu\n",
            "\n",
            "Welcome To Blood Zone!\n",
            "1. Register as a donor\n",
            "2. Search For donors\n",
            "3. Exit\n"
          ]
        },
        {
          "output_type": "error",
          "ename": "KeyboardInterrupt",
          "evalue": "Interrupted by user",
          "traceback": [
            "\u001b[0;31m---------------------------------------------------------------------------\u001b[0m",
            "\u001b[0;31mKeyboardInterrupt\u001b[0m                         Traceback (most recent call last)",
            "\u001b[0;32m<ipython-input-3-9d05fb4c0885>\u001b[0m in \u001b[0;36m<cell line: 69>\u001b[0;34m()\u001b[0m\n\u001b[1;32m     68\u001b[0m \u001b[0;34m\u001b[0m\u001b[0m\n\u001b[1;32m     69\u001b[0m \u001b[0;32mif\u001b[0m \u001b[0m__name__\u001b[0m \u001b[0;34m==\u001b[0m \u001b[0;34m\"__main__\"\u001b[0m\u001b[0;34m:\u001b[0m\u001b[0;34m\u001b[0m\u001b[0;34m\u001b[0m\u001b[0m\n\u001b[0;32m---> 70\u001b[0;31m     \u001b[0mmain\u001b[0m\u001b[0;34m(\u001b[0m\u001b[0;34m)\u001b[0m\u001b[0;34m\u001b[0m\u001b[0;34m\u001b[0m\u001b[0m\n\u001b[0m",
            "\u001b[0;32m<ipython-input-3-9d05fb4c0885>\u001b[0m in \u001b[0;36mmain\u001b[0;34m()\u001b[0m\n\u001b[1;32m     39\u001b[0m         \u001b[0mprint\u001b[0m\u001b[0;34m(\u001b[0m\u001b[0;34m\"3. Exit\"\u001b[0m\u001b[0;34m)\u001b[0m\u001b[0;34m\u001b[0m\u001b[0;34m\u001b[0m\u001b[0m\n\u001b[1;32m     40\u001b[0m \u001b[0;34m\u001b[0m\u001b[0m\n\u001b[0;32m---> 41\u001b[0;31m         \u001b[0mchoice\u001b[0m \u001b[0;34m=\u001b[0m \u001b[0minput\u001b[0m\u001b[0;34m(\u001b[0m\u001b[0;34m\"Please enter your choice: \"\u001b[0m\u001b[0;34m)\u001b[0m\u001b[0;34m\u001b[0m\u001b[0;34m\u001b[0m\u001b[0m\n\u001b[0m\u001b[1;32m     42\u001b[0m \u001b[0;34m\u001b[0m\u001b[0m\n\u001b[1;32m     43\u001b[0m         \u001b[0;32mif\u001b[0m \u001b[0mchoice\u001b[0m \u001b[0;34m==\u001b[0m \u001b[0;34m'1'\u001b[0m\u001b[0;34m:\u001b[0m\u001b[0;34m\u001b[0m\u001b[0;34m\u001b[0m\u001b[0m\n",
            "\u001b[0;32m/usr/local/lib/python3.10/dist-packages/ipykernel/kernelbase.py\u001b[0m in \u001b[0;36mraw_input\u001b[0;34m(self, prompt)\u001b[0m\n\u001b[1;32m    849\u001b[0m                 \u001b[0;34m\"raw_input was called, but this frontend does not support input requests.\"\u001b[0m\u001b[0;34m\u001b[0m\u001b[0;34m\u001b[0m\u001b[0m\n\u001b[1;32m    850\u001b[0m             )\n\u001b[0;32m--> 851\u001b[0;31m         return self._input_request(str(prompt),\n\u001b[0m\u001b[1;32m    852\u001b[0m             \u001b[0mself\u001b[0m\u001b[0;34m.\u001b[0m\u001b[0m_parent_ident\u001b[0m\u001b[0;34m,\u001b[0m\u001b[0;34m\u001b[0m\u001b[0;34m\u001b[0m\u001b[0m\n\u001b[1;32m    853\u001b[0m             \u001b[0mself\u001b[0m\u001b[0;34m.\u001b[0m\u001b[0m_parent_header\u001b[0m\u001b[0;34m,\u001b[0m\u001b[0;34m\u001b[0m\u001b[0;34m\u001b[0m\u001b[0m\n",
            "\u001b[0;32m/usr/local/lib/python3.10/dist-packages/ipykernel/kernelbase.py\u001b[0m in \u001b[0;36m_input_request\u001b[0;34m(self, prompt, ident, parent, password)\u001b[0m\n\u001b[1;32m    893\u001b[0m             \u001b[0;32mexcept\u001b[0m \u001b[0mKeyboardInterrupt\u001b[0m\u001b[0;34m:\u001b[0m\u001b[0;34m\u001b[0m\u001b[0;34m\u001b[0m\u001b[0m\n\u001b[1;32m    894\u001b[0m                 \u001b[0;31m# re-raise KeyboardInterrupt, to truncate traceback\u001b[0m\u001b[0;34m\u001b[0m\u001b[0;34m\u001b[0m\u001b[0m\n\u001b[0;32m--> 895\u001b[0;31m                 \u001b[0;32mraise\u001b[0m \u001b[0mKeyboardInterrupt\u001b[0m\u001b[0;34m(\u001b[0m\u001b[0;34m\"Interrupted by user\"\u001b[0m\u001b[0;34m)\u001b[0m \u001b[0;32mfrom\u001b[0m \u001b[0;32mNone\u001b[0m\u001b[0;34m\u001b[0m\u001b[0;34m\u001b[0m\u001b[0m\n\u001b[0m\u001b[1;32m    896\u001b[0m             \u001b[0;32mexcept\u001b[0m \u001b[0mException\u001b[0m \u001b[0;32mas\u001b[0m \u001b[0me\u001b[0m\u001b[0;34m:\u001b[0m\u001b[0;34m\u001b[0m\u001b[0;34m\u001b[0m\u001b[0m\n\u001b[1;32m    897\u001b[0m                 \u001b[0mself\u001b[0m\u001b[0;34m.\u001b[0m\u001b[0mlog\u001b[0m\u001b[0;34m.\u001b[0m\u001b[0mwarning\u001b[0m\u001b[0;34m(\u001b[0m\u001b[0;34m\"Invalid Message:\"\u001b[0m\u001b[0;34m,\u001b[0m \u001b[0mexc_info\u001b[0m\u001b[0;34m=\u001b[0m\u001b[0;32mTrue\u001b[0m\u001b[0;34m)\u001b[0m\u001b[0;34m\u001b[0m\u001b[0;34m\u001b[0m\u001b[0m\n",
            "\u001b[0;31mKeyboardInterrupt\u001b[0m: Interrupted by user"
          ]
        }
      ],
      "source": [
        "class Donor:\n",
        "    def __init__(self, name, phone_number, blood_type, last_donation_date, gender, institution, location):\n",
        "        self.name = name\n",
        "        self.phone_number = phone_number\n",
        "        self.blood_type = blood_type\n",
        "        self.last_donation_date = last_donation_date\n",
        "        self.gender = gender\n",
        "        self.institution = institution\n",
        "        self.location = location\n",
        "\n",
        "\n",
        "class BloodDonationSystem:\n",
        "    def __init__(self):\n",
        "        self.donors = []\n",
        "\n",
        "    def register_donor(self, name, contact_info, blood_type, last_donation_date, gender, institution, location):\n",
        "        new_donor = Donor(name, contact_info, blood_type, last_donation_date, gender, institution, location)\n",
        "        self.donors.append(new_donor)\n",
        "        print(\"\\nSuccessfully Registered!\")\n",
        "\n",
        "    def search_donors(self, blood_type, location):\n",
        "        matching_donors = [donor for donor in self.donors if donor.blood_type == blood_type and donor.location == location]\n",
        "        if matching_donors:\n",
        "            print(\"\\nMatching donors found:\")\n",
        "            for donor in matching_donors:\n",
        "                print(f\"Name: {donor.name}, Phone: {donor.phone_number}, Blood Group: {donor.blood_type}, \"\n",
        "                      f\"Last Donation: {donor.last_donation_date}, Gender: {donor.gender}, Institution: {donor.institution}\")\n",
        "        else:\n",
        "            print(\"\\nSorry, No matching donors found.\")\n",
        "\n",
        "\n",
        "def main():\n",
        "    blood_bank = BloodDonationSystem()\n",
        "\n",
        "    while True:\n",
        "        print(\"\\nWelcome To Blood Zone!\")\n",
        "        print(\"1. Register as a donor\")\n",
        "        print(\"2. Search For donors\")\n",
        "        print(\"3. Exit\")\n",
        "\n",
        "        choice = input(\"Please enter your choice: \")\n",
        "\n",
        "        if choice == '1':\n",
        "            print(\"\\n\")\n",
        "            name = input(\"Enter Your Name: \")\n",
        "            phone_number = input(\"Enter Your Phone Number: \")\n",
        "            blood_type = input(\"Enter Your Blood Type: \")\n",
        "            last_donation_date = input(\"Enter last donation date (DD-MM-YYYY): \")\n",
        "            gender = input(\"Enter Your Gender: \")\n",
        "            institution = input(\"Enter Your Institution: \")\n",
        "            location = input(\"Enter Your Location: \")\n",
        "            blood_bank.register_donor(name, phone_number, blood_type, last_donation_date, gender, institution, location)\n",
        "\n",
        "        elif choice == '2':\n",
        "            print(\"\\n\")\n",
        "            blood_type = input(\"Enter the blood type you are looking for: \")\n",
        "            location = input(\"Enter the location you are searching in: \")\n",
        "            blood_bank.search_donors(blood_type, location)\n",
        "\n",
        "        elif choice == '3':\n",
        "            print(\"\\n\")\n",
        "            print(\"Thank You for using the Blood Donation System. Have a Nice Day...\")\n",
        "            break\n",
        "\n",
        "        else:\n",
        "            print(\"Invalid choice. Please try again.\")\n",
        "\n",
        "\n",
        "if __name__ == \"__main__\":\n",
        "    main()\n"
      ]
    }
  ]
}